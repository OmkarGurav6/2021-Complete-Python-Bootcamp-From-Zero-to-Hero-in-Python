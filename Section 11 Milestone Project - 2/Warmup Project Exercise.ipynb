{
 "cells": [
  {
   "cell_type": "code",
   "execution_count": 1,
   "id": "15bbc5bb",
   "metadata": {},
   "outputs": [],
   "source": [
    "import random\n",
    "\n",
    "suits = ('Hearts', 'Diamonds', 'Spades', 'Clubs')\n",
    "ranks = ('Two', 'Three', 'Four', 'Five', 'Six', 'Seven', 'Eight', 'Nine', 'Ten', 'Jack', 'Queen', 'King', 'Ace')\n",
    "values = {'Two':2, 'Three':3, 'Four':4, 'Five':5, 'Six':6, 'Seven':7, 'Eight':8, \n",
    "            'Nine':9, 'Ten':10, 'Jack':11, 'Queen':12, 'King':13, 'Ace':14}"
   ]
  },
  {
   "cell_type": "code",
   "execution_count": 2,
   "id": "e4bee3cc",
   "metadata": {},
   "outputs": [],
   "source": [
    "class Card:\n",
    "    \n",
    "    def __init__(self,suit,rank):\n",
    "        self.suit = suit\n",
    "        self.rank = rank\n",
    "        self.value = values[rank]\n",
    "        \n",
    "    def __str__(self):\n",
    "        return self.rank + ' of ' + self.suit"
   ]
  },
  {
   "cell_type": "code",
   "execution_count": 3,
   "id": "cd1999c4",
   "metadata": {},
   "outputs": [],
   "source": [
    "c = Card(suits[3],ranks[7])"
   ]
  },
  {
   "cell_type": "code",
   "execution_count": 4,
   "id": "2d065103",
   "metadata": {},
   "outputs": [
    {
     "name": "stdout",
     "output_type": "stream",
     "text": [
      "Nine of Clubs\n"
     ]
    }
   ],
   "source": [
    "print(c)"
   ]
  },
  {
   "cell_type": "code",
   "execution_count": 5,
   "id": "f0c89572",
   "metadata": {},
   "outputs": [
    {
     "data": {
      "text/plain": [
       "'Nine'"
      ]
     },
     "execution_count": 5,
     "metadata": {},
     "output_type": "execute_result"
    }
   ],
   "source": [
    "c.rank"
   ]
  },
  {
   "cell_type": "code",
   "execution_count": 6,
   "id": "bf686e10",
   "metadata": {},
   "outputs": [
    {
     "data": {
      "text/plain": [
       "'Clubs'"
      ]
     },
     "execution_count": 6,
     "metadata": {},
     "output_type": "execute_result"
    }
   ],
   "source": [
    "c.suit"
   ]
  },
  {
   "cell_type": "code",
   "execution_count": 7,
   "id": "30c99a0c",
   "metadata": {},
   "outputs": [
    {
     "data": {
      "text/plain": [
       "9"
      ]
     },
     "execution_count": 7,
     "metadata": {},
     "output_type": "execute_result"
    }
   ],
   "source": [
    "c.value"
   ]
  },
  {
   "cell_type": "code",
   "execution_count": 8,
   "id": "2820cf88",
   "metadata": {},
   "outputs": [],
   "source": [
    "class Deck:\n",
    "    \n",
    "    def __init__(self):\n",
    "        \n",
    "        self.all_cards = [] \n",
    "        for suit in suits:\n",
    "            for rank in ranks:\n",
    "                self.all_cards.append(Card(suit,rank))\n",
    "                \n",
    "    def shuffle(self):\n",
    "        random.shuffle(self.all_cards)\n",
    "        \n",
    "    def deal_one(self):\n",
    "        return self.all_cards.pop()"
   ]
  },
  {
   "cell_type": "code",
   "execution_count": 9,
   "id": "180ea88a",
   "metadata": {},
   "outputs": [],
   "source": [
    "d = Deck()"
   ]
  },
  {
   "cell_type": "code",
   "execution_count": 10,
   "id": "5a6731d4",
   "metadata": {},
   "outputs": [],
   "source": [
    "last = d.all_cards[-1]"
   ]
  },
  {
   "cell_type": "code",
   "execution_count": 11,
   "id": "f2675daf",
   "metadata": {},
   "outputs": [
    {
     "name": "stdout",
     "output_type": "stream",
     "text": [
      "Ace of Clubs\n"
     ]
    }
   ],
   "source": [
    "print(last)"
   ]
  },
  {
   "cell_type": "code",
   "execution_count": 12,
   "id": "1294a773",
   "metadata": {},
   "outputs": [],
   "source": [
    "d.shuffle()"
   ]
  },
  {
   "cell_type": "code",
   "execution_count": 13,
   "id": "aefb624e",
   "metadata": {},
   "outputs": [],
   "source": [
    "l1 = d.all_cards[-1]"
   ]
  },
  {
   "cell_type": "code",
   "execution_count": 14,
   "id": "a7582ba9",
   "metadata": {},
   "outputs": [
    {
     "name": "stdout",
     "output_type": "stream",
     "text": [
      "Five of Spades\n"
     ]
    }
   ],
   "source": [
    "print(l1)"
   ]
  },
  {
   "cell_type": "code",
   "execution_count": 15,
   "id": "fe70a51f",
   "metadata": {},
   "outputs": [],
   "source": [
    "d.shuffle()"
   ]
  },
  {
   "cell_type": "code",
   "execution_count": 16,
   "id": "1f78600a",
   "metadata": {},
   "outputs": [],
   "source": [
    "l2 = d.all_cards[-1]"
   ]
  },
  {
   "cell_type": "code",
   "execution_count": 17,
   "id": "f3a1192d",
   "metadata": {},
   "outputs": [
    {
     "name": "stdout",
     "output_type": "stream",
     "text": [
      "Nine of Clubs\n"
     ]
    }
   ],
   "source": [
    "print(l2)"
   ]
  },
  {
   "cell_type": "code",
   "execution_count": 18,
   "id": "0e288068",
   "metadata": {},
   "outputs": [
    {
     "data": {
      "text/plain": [
       "52"
      ]
     },
     "execution_count": 18,
     "metadata": {},
     "output_type": "execute_result"
    }
   ],
   "source": [
    "len(d.all_cards)"
   ]
  },
  {
   "cell_type": "code",
   "execution_count": 19,
   "id": "3272434b",
   "metadata": {},
   "outputs": [
    {
     "data": {
      "text/plain": [
       "<__main__.Card at 0x2843eb0fe20>"
      ]
     },
     "execution_count": 19,
     "metadata": {},
     "output_type": "execute_result"
    }
   ],
   "source": [
    "d.deal_one()"
   ]
  },
  {
   "cell_type": "code",
   "execution_count": 20,
   "id": "c6347d26",
   "metadata": {},
   "outputs": [
    {
     "data": {
      "text/plain": [
       "51"
      ]
     },
     "execution_count": 20,
     "metadata": {},
     "output_type": "execute_result"
    }
   ],
   "source": [
    "len(d.all_cards)"
   ]
  },
  {
   "cell_type": "code",
   "execution_count": 21,
   "id": "307f9a43",
   "metadata": {},
   "outputs": [],
   "source": [
    "card = d.deal_one()"
   ]
  },
  {
   "cell_type": "code",
   "execution_count": 22,
   "id": "af897ac1",
   "metadata": {},
   "outputs": [
    {
     "name": "stdout",
     "output_type": "stream",
     "text": [
      "Four of Clubs\n"
     ]
    }
   ],
   "source": [
    "print(card)"
   ]
  },
  {
   "cell_type": "code",
   "execution_count": 23,
   "id": "8bbc1b91",
   "metadata": {},
   "outputs": [
    {
     "data": {
      "text/plain": [
       "50"
      ]
     },
     "execution_count": 23,
     "metadata": {},
     "output_type": "execute_result"
    }
   ],
   "source": [
    "len(d.all_cards)"
   ]
  },
  {
   "cell_type": "code",
   "execution_count": 24,
   "id": "345c4942",
   "metadata": {},
   "outputs": [],
   "source": [
    "class Player:\n",
    "    \n",
    "    def __init__(self,name):\n",
    "        self.name = name\n",
    "        self.all_cards = [] \n",
    "        \n",
    "    def remove_one(self):\n",
    "        return self.all_cards.pop(0)\n",
    "    \n",
    "    def add_cards(self,new_cards):\n",
    "        if type(new_cards) == type([]):\n",
    "            self.all_cards.extend(new_cards)\n",
    "        else:\n",
    "            self.all_cards.append(new_cards)\n",
    "    \n",
    "    \n",
    "    def __str__(self):\n",
    "        return f'Player {self.name} has {len(self.all_cards)} cards.'"
   ]
  },
  {
   "cell_type": "code",
   "execution_count": 25,
   "id": "fdb2c8ba",
   "metadata": {},
   "outputs": [],
   "source": [
    "p = Player('Omkar')"
   ]
  },
  {
   "cell_type": "code",
   "execution_count": 26,
   "id": "431e4026",
   "metadata": {},
   "outputs": [
    {
     "name": "stdout",
     "output_type": "stream",
     "text": [
      "Player Omkar has 0 cards.\n"
     ]
    }
   ],
   "source": [
    "print(p)"
   ]
  },
  {
   "cell_type": "code",
   "execution_count": 27,
   "id": "a0960795",
   "metadata": {},
   "outputs": [],
   "source": [
    "p.add_cards(last)"
   ]
  },
  {
   "cell_type": "code",
   "execution_count": 28,
   "id": "34f90189",
   "metadata": {},
   "outputs": [
    {
     "name": "stdout",
     "output_type": "stream",
     "text": [
      "Ace of Clubs\n"
     ]
    }
   ],
   "source": [
    "print(p.all_cards[0])"
   ]
  },
  {
   "cell_type": "code",
   "execution_count": 29,
   "id": "7536805c",
   "metadata": {},
   "outputs": [],
   "source": [
    "p.add_cards([last,last,last])"
   ]
  },
  {
   "cell_type": "code",
   "execution_count": 30,
   "id": "7d7673d2",
   "metadata": {},
   "outputs": [
    {
     "name": "stdout",
     "output_type": "stream",
     "text": [
      "Ace of Clubs Ace of Clubs Ace of Clubs Ace of Clubs\n"
     ]
    }
   ],
   "source": [
    "print(p.all_cards[0],p.all_cards[1],p.all_cards[2],p.all_cards[3])"
   ]
  },
  {
   "cell_type": "code",
   "execution_count": 31,
   "id": "4737aeba",
   "metadata": {},
   "outputs": [
    {
     "data": {
      "text/plain": [
       "<__main__.Card at 0x2843eb13040>"
      ]
     },
     "execution_count": 31,
     "metadata": {},
     "output_type": "execute_result"
    }
   ],
   "source": [
    "p.remove_one()"
   ]
  },
  {
   "cell_type": "code",
   "execution_count": 32,
   "id": "8244bfa8",
   "metadata": {},
   "outputs": [
    {
     "name": "stdout",
     "output_type": "stream",
     "text": [
      "Player Omkar has 3 cards.\n"
     ]
    }
   ],
   "source": [
    "print(p)"
   ]
  },
  {
   "cell_type": "code",
   "execution_count": 33,
   "id": "0c029747",
   "metadata": {},
   "outputs": [],
   "source": [
    "r = p.remove_one()"
   ]
  },
  {
   "cell_type": "code",
   "execution_count": 34,
   "id": "939f6447",
   "metadata": {},
   "outputs": [
    {
     "name": "stdout",
     "output_type": "stream",
     "text": [
      "Ace of Clubs\n"
     ]
    }
   ],
   "source": [
    "print(r)"
   ]
  },
  {
   "cell_type": "code",
   "execution_count": 35,
   "id": "2a35215e",
   "metadata": {},
   "outputs": [
    {
     "name": "stdout",
     "output_type": "stream",
     "text": [
      "Player Omkar has 2 cards.\n"
     ]
    }
   ],
   "source": [
    "print(p)"
   ]
  },
  {
   "cell_type": "code",
   "execution_count": 36,
   "id": "c3ed4331",
   "metadata": {},
   "outputs": [],
   "source": [
    "player_one = Player(\"One\")\n",
    "player_two = Player(\"Two\")\n",
    "\n",
    "new_deck = Deck()\n",
    "new_deck.shuffle()\n",
    "\n",
    "for x in range(26):\n",
    "    player_one.add_cards(new_deck.deal_one())\n",
    "    player_two.add_cards(new_deck.deal_one())\n",
    "    \n",
    "game_on = True"
   ]
  },
  {
   "cell_type": "code",
   "execution_count": 37,
   "id": "a0654cca",
   "metadata": {},
   "outputs": [
    {
     "name": "stdout",
     "output_type": "stream",
     "text": [
      "Round 1  \t Four of Hearts  \t Five of Clubs \n",
      "Round 2  \t Three of Diamonds  \t Seven of Clubs \n",
      "Round 3  \t Six of Clubs  \t Eight of Hearts \n",
      "Round 4  \t Jack of Spades  \t Six of Diamonds \n",
      "Round 5  \t King of Clubs  \t King of Diamonds \n",
      "WAR!\n",
      "Round 6  \t Eight of Spades  \t Four of Spades \n",
      "Round 7  \t Four of Clubs  \t Three of Spades \n",
      "Round 8  \t Ace of Diamonds  \t Eight of Diamonds \n",
      "Round 9  \t Queen of Spades  \t Queen of Diamonds \n",
      "WAR!\n",
      "Round 10  \t Nine of Hearts  \t Ten of Spades \n",
      "Round 11  \t Eight of Clubs  \t Six of Hearts \n",
      "Round 12  \t Nine of Spades  \t Queen of Hearts \n",
      "Round 13  \t Seven of Hearts  \t Jack of Diamonds \n",
      "Round 14  \t Two of Hearts  \t Ten of Clubs \n",
      "Round 15  \t Five of Hearts  \t Nine of Diamonds \n",
      "Round 16  \t Five of Spades  \t Queen of Clubs \n",
      "Round 17  \t Jack of Spades  \t Four of Hearts \n",
      "Round 18  \t Six of Diamonds  \t Five of Clubs \n",
      "Round 19  \t King of Clubs  \t Three of Diamonds \n",
      "Round 20  \t Ace of Clubs  \t Seven of Clubs \n",
      "Round 21  \t King of Hearts  \t Six of Clubs \n",
      "Round 22  \t Six of Spades  \t Eight of Hearts \n",
      "Round 23  \t Three of Clubs  \t Queen of Spades \n",
      "Round 24  \t Four of Diamonds  \t Jack of Clubs \n",
      "Round 25  \t King of Diamonds  \t King of Spades \n",
      "WAR!\n",
      "Round 26  \t Eight of Spades  \t Two of Clubs \n",
      "Round 27  \t Four of Spades  \t Two of Diamonds \n",
      "Round 28  \t Four of Clubs  \t Ace of Spades \n",
      "Round 29  \t Three of Spades  \t Nine of Clubs \n",
      "Round 30  \t Ace of Diamonds  \t Nine of Hearts \n",
      "Round 31  \t Eight of Diamonds  \t Ten of Spades \n",
      "Round 32  \t Eight of Clubs  \t Nine of Spades \n",
      "Round 33  \t Six of Hearts  \t Queen of Hearts \n",
      "Round 34  \t Jack of Spades  \t Seven of Hearts \n",
      "Round 35  \t Four of Hearts  \t Jack of Diamonds \n",
      "Round 36  \t Six of Diamonds  \t Two of Hearts \n",
      "Round 37  \t Five of Clubs  \t Ten of Clubs \n",
      "Round 38  \t King of Clubs  \t Five of Hearts \n",
      "Round 39  \t Three of Diamonds  \t Nine of Diamonds \n",
      "Round 40  \t Ace of Clubs  \t Five of Spades \n",
      "Round 41  \t Seven of Clubs  \t Queen of Clubs \n",
      "Round 42  \t King of Hearts  \t Six of Spades \n",
      "Round 43  \t Six of Clubs  \t Eight of Hearts \n",
      "Round 44  \t Eight of Spades  \t Three of Clubs \n",
      "Round 45  \t Two of Clubs  \t Queen of Spades \n",
      "Round 46  \t Four of Spades  \t Four of Diamonds \n",
      "WAR!\n",
      "Round 47  \t Six of Diamonds  \t Five of Diamonds \n",
      "Round 48  \t Two of Hearts  \t Two of Spades \n",
      "WAR!\n",
      "Round 49  \t Six of Spades  \t Ace of Hearts \n",
      "Round 50  \t Eight of Spades  \t Four of Clubs \n",
      "Round 51  \t Three of Clubs  \t Ace of Spades \n",
      "Round 52  \t Four of Spades  \t Three of Spades \n",
      "Round 53  \t Two of Diamonds  \t Nine of Clubs \n",
      "Round 54  \t Ace of Diamonds  \t Eight of Diamonds \n",
      "Round 55  \t Nine of Hearts  \t Ten of Spades \n",
      "Round 56  \t Jack of Spades  \t Eight of Clubs \n",
      "Round 57  \t Seven of Hearts  \t Nine of Spades \n",
      "Round 58  \t Four of Diamonds  \t Six of Hearts \n",
      "Round 59  \t Jack of Clubs  \t Queen of Hearts \n",
      "Round 60  \t King of Diamonds  \t Four of Hearts \n",
      "Round 61  \t Ten of Hearts  \t Jack of Diamonds \n",
      "Round 62  \t Seven of Spades  \t Five of Clubs \n",
      "Round 63  \t Three of Hearts  \t Ten of Clubs \n",
      "Round 64  \t Six of Diamonds  \t Three of Diamonds \n",
      "Round 65  \t Five of Diamonds  \t Nine of Diamonds \n",
      "Round 66  \t Two of Hearts  \t Seven of Clubs \n",
      "Round 67  \t King of Clubs  \t Queen of Clubs \n",
      "Round 68  \t Five of Hearts  \t Six of Clubs \n",
      "Round 69  \t Ace of Clubs  \t Eight of Hearts \n",
      "Round 70  \t Five of Spades  \t Two of Clubs \n",
      "Round 71  \t King of Hearts  \t Queen of Spades \n",
      "Round 72  \t Two of Spades  \t Six of Spades \n",
      "Round 73  \t King of Spades  \t Ace of Hearts \n",
      "Round 74  \t Jack of Hearts  \t Three of Clubs \n",
      "Round 75  \t Ten of Diamonds  \t Ace of Spades \n",
      "Round 76  \t Seven of Diamonds  \t Two of Diamonds \n",
      "Round 77  \t Queen of Diamonds  \t Nine of Clubs \n",
      "Round 78  \t Eight of Spades  \t Nine of Hearts \n",
      "Round 79  \t Four of Clubs  \t Ten of Spades \n",
      "Round 80  \t Four of Spades  \t Seven of Hearts \n",
      "Round 81  \t Three of Spades  \t Nine of Spades \n",
      "Round 82  \t Ace of Diamonds  \t Four of Diamonds \n",
      "Round 83  \t Eight of Diamonds  \t Six of Hearts \n",
      "Round 84  \t Jack of Spades  \t Jack of Clubs \n",
      "WAR!\n",
      "Round 85  \t Six of Diamonds  \t Five of Diamonds \n",
      "Round 86  \t Three of Diamonds  \t Nine of Diamonds \n",
      "Round 87  \t King of Clubs  \t Two of Hearts \n",
      "Round 88  \t Queen of Clubs  \t Seven of Clubs \n",
      "Round 89  \t Ace of Clubs  \t Five of Hearts \n",
      "Round 90  \t Eight of Hearts  \t Six of Clubs \n",
      "Round 91  \t Five of Spades  \t Two of Spades \n",
      "Round 92  \t Two of Clubs  \t Six of Spades \n",
      "Round 93  \t King of Hearts  \t King of Spades \n",
      "WAR!\n",
      "Round 94  \t Queen of Diamonds  \t Four of Clubs \n",
      "Round 95  \t Nine of Clubs  \t Ten of Spades \n",
      "Round 96  \t Ace of Diamonds  \t Four of Spades \n",
      "Round 97  \t Four of Diamonds  \t Seven of Hearts \n",
      "Round 98  \t Eight of Diamonds  \t Three of Spades \n",
      "Round 99  \t Six of Hearts  \t Nine of Spades \n",
      "Round 100  \t Six of Diamonds  \t Jack of Spades \n",
      "Round 101  \t Five of Diamonds  \t Eight of Clubs \n",
      "Round 102  \t King of Clubs  \t King of Diamonds \n",
      "WAR!\n",
      "Round 103  \t Eight of Hearts  \t Ten of Hearts \n",
      "Round 104  \t Six of Clubs  \t Jack of Diamonds \n",
      "Round 105  \t Five of Spades  \t Three of Hearts \n",
      "Round 106  \t Two of Spades  \t Ten of Clubs \n",
      "Round 107  \t Queen of Diamonds  \t Three of Diamonds \n",
      "Round 108  \t Four of Clubs  \t Nine of Diamonds \n",
      "Round 109  \t Ace of Diamonds  \t Two of Clubs \n",
      "Round 110  \t Four of Spades  \t Six of Spades \n",
      "Round 111  \t Eight of Diamonds  \t King of Hearts \n",
      "Round 112  \t Three of Spades  \t Queen of Spades \n",
      "Round 113  \t Five of Spades  \t Jack of Hearts \n",
      "Round 114  \t Three of Hearts  \t Three of Clubs \n",
      "WAR!\n",
      "Player One unable to play war! Game Over at War\n",
      "Player Two Wins! Player One Loses!\n"
     ]
    }
   ],
   "source": [
    "\n",
    "round_num = 0\n",
    "while game_on:\n",
    "    \n",
    "    round_num += 1\n",
    "    print(f\"Round {round_num} \", end = \" \")\n",
    "    \n",
    "    if len(player_one.all_cards) == 0:\n",
    "        print(\"Player One out of cards! Game Over\")\n",
    "        print(\"Player Two Wins!\")\n",
    "        game_on = False\n",
    "        break\n",
    "        \n",
    "    if len(player_two.all_cards) == 0:\n",
    "        print(\"Player Two out of cards! Game Over\")\n",
    "        print(\"Player One Wins!\")\n",
    "        game_on = False\n",
    "        break\n",
    "        \n",
    "    # Start a new round and reset current cards \"on the table\"\n",
    "    player_one_cards = []\n",
    "    player_one_cards.append(player_one.remove_one())\n",
    "    print(f\"\\t {player_one_cards[-1]} \", end = \" \")\n",
    "    \n",
    "    player_two_cards = []\n",
    "    player_two_cards.append(player_two.remove_one())\n",
    "    print(f\"\\t {player_two_cards[-1]} \")\n",
    "    \n",
    "    at_war = True\n",
    "\n",
    "    while at_war:\n",
    "\n",
    "\n",
    "        if player_one_cards[-1].value > player_two_cards[-1].value:\n",
    "\n",
    "            # Player One gets the cards\n",
    "            player_one.add_cards(player_one_cards)\n",
    "            player_one.add_cards(player_two_cards)\n",
    "            \n",
    "            # No Longer at \"war\" , time for next round\n",
    "            at_war = False\n",
    "        \n",
    "        elif player_one_cards[-1].value < player_two_cards[-1].value:\n",
    "\n",
    "            # Player Two gets the cards\n",
    "            player_two.add_cards(player_one_cards)\n",
    "            player_two.add_cards(player_two_cards)\n",
    "            \n",
    "            # No Longer at \"war\" , time for next round\n",
    "            at_war = False\n",
    "\n",
    "        else:\n",
    "            print('WAR!')\n",
    "            # This occurs when the cards are equal.\n",
    "            # We'll grab another card each and continue the current war.\n",
    "            \n",
    "            # Check to see if a player is out of cards:\n",
    "            if len(player_one.all_cards) < 5:\n",
    "                print(\"Player One unable to play war! Game Over at War\")\n",
    "                print(\"Player Two Wins! Player One Loses!\")\n",
    "                game_on = False\n",
    "                break\n",
    "\n",
    "            elif len(player_two.all_cards) < 5:\n",
    "                print(\"Player Two unable to play war! Game Over at War\")\n",
    "                print(\"Player One Wins! Player One Loses!\")\n",
    "                game_on = False\n",
    "                break\n",
    "            # Otherwise, we're still at war, so we'll add the next cards\n",
    "            else:\n",
    "                for num in range(5):\n",
    "                    player_one_cards.append(player_one.remove_one())\n",
    "                    player_two_cards.append(player_two.remove_one())\n",
    "    "
   ]
  },
  {
   "cell_type": "code",
   "execution_count": 38,
   "id": "ee7423d6",
   "metadata": {},
   "outputs": [
    {
     "data": {
      "text/plain": [
       "4"
      ]
     },
     "execution_count": 38,
     "metadata": {},
     "output_type": "execute_result"
    }
   ],
   "source": [
    "len(player_one.all_cards)"
   ]
  },
  {
   "cell_type": "code",
   "execution_count": 39,
   "id": "4844d61e",
   "metadata": {},
   "outputs": [
    {
     "data": {
      "text/plain": [
       "46"
      ]
     },
     "execution_count": 39,
     "metadata": {},
     "output_type": "execute_result"
    }
   ],
   "source": [
    "len(player_two.all_cards)"
   ]
  },
  {
   "cell_type": "code",
   "execution_count": 40,
   "id": "528de5db",
   "metadata": {},
   "outputs": [
    {
     "name": "stdout",
     "output_type": "stream",
     "text": [
      "Three of Hearts\n"
     ]
    }
   ],
   "source": [
    "print(player_one_cards[-1])"
   ]
  },
  {
   "cell_type": "code",
   "execution_count": 41,
   "id": "42763d1a",
   "metadata": {},
   "outputs": [
    {
     "name": "stdout",
     "output_type": "stream",
     "text": [
      "Three of Clubs\n"
     ]
    }
   ],
   "source": [
    "print(player_two_cards[-1])"
   ]
  }
 ],
 "metadata": {
  "kernelspec": {
   "display_name": "Python 3",
   "language": "python",
   "name": "python3"
  },
  "language_info": {
   "codemirror_mode": {
    "name": "ipython",
    "version": 3
   },
   "file_extension": ".py",
   "mimetype": "text/x-python",
   "name": "python",
   "nbconvert_exporter": "python",
   "pygments_lexer": "ipython3",
   "version": "3.8.8"
  }
 },
 "nbformat": 4,
 "nbformat_minor": 5
}
