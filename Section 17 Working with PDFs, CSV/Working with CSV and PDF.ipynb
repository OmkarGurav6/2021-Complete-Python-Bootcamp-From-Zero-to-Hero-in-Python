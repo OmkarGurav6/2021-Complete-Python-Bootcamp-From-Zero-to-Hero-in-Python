{
 "cells": [
  {
   "cell_type": "code",
   "execution_count": 1,
   "id": "1a724f96",
   "metadata": {},
   "outputs": [],
   "source": [
    "import csv"
   ]
  },
  {
   "cell_type": "code",
   "execution_count": 2,
   "id": "7f026541",
   "metadata": {},
   "outputs": [],
   "source": [
    "demo_data = open('P2-Demographic-Data.csv')"
   ]
  },
  {
   "cell_type": "code",
   "execution_count": 3,
   "id": "461e6f6a",
   "metadata": {},
   "outputs": [
    {
     "data": {
      "text/plain": [
       "<_io.TextIOWrapper name='P2-Demographic-Data.csv' mode='r' encoding='cp1252'>"
      ]
     },
     "execution_count": 3,
     "metadata": {},
     "output_type": "execute_result"
    }
   ],
   "source": [
    "demo_data"
   ]
  },
  {
   "cell_type": "code",
   "execution_count": 4,
   "id": "6bff98d2",
   "metadata": {},
   "outputs": [],
   "source": [
    "csv_data = csv.reader(demo_data)"
   ]
  },
  {
   "cell_type": "code",
   "execution_count": 5,
   "id": "47e50ed5",
   "metadata": {},
   "outputs": [
    {
     "data": {
      "text/plain": [
       "<_csv.reader at 0x1e0f784a520>"
      ]
     },
     "execution_count": 5,
     "metadata": {},
     "output_type": "execute_result"
    }
   ],
   "source": [
    "csv_data"
   ]
  },
  {
   "cell_type": "code",
   "execution_count": 6,
   "id": "a1f9ed27",
   "metadata": {},
   "outputs": [],
   "source": [
    "data_lines = list(csv_data)"
   ]
  },
  {
   "cell_type": "code",
   "execution_count": 7,
   "id": "43a4763d",
   "metadata": {},
   "outputs": [
    {
     "data": {
      "text/plain": [
       "[['Country Name',\n",
       "  'Country Code',\n",
       "  'Birth rate',\n",
       "  'Internet users',\n",
       "  'Income Group'],\n",
       " ['Aruba', 'ABW', '10.244', '78.9', 'High income'],\n",
       " ['Afghanistan', 'AFG', '35.253', '5.9', 'Low income'],\n",
       " ['Angola', 'AGO', '45.985', '19.1', 'Upper middle income'],\n",
       " ['Albania', 'ALB', '12.877', '57.2', 'Upper middle income'],\n",
       " ['United Arab Emirates', 'ARE', '11.044', '88', 'High income']]"
      ]
     },
     "execution_count": 7,
     "metadata": {},
     "output_type": "execute_result"
    }
   ],
   "source": [
    "data_lines[:6]"
   ]
  },
  {
   "cell_type": "code",
   "execution_count": 8,
   "id": "33a40679",
   "metadata": {},
   "outputs": [
    {
     "data": {
      "text/plain": [
       "196"
      ]
     },
     "execution_count": 8,
     "metadata": {},
     "output_type": "execute_result"
    }
   ],
   "source": [
    "len(data_lines)"
   ]
  },
  {
   "cell_type": "code",
   "execution_count": 9,
   "id": "69506ce4",
   "metadata": {},
   "outputs": [
    {
     "name": "stdout",
     "output_type": "stream",
     "text": [
      "['Micronesia, Fed. Sts.', 'FSM', '23.511', '27.8', 'Lower middle income']\n",
      "['Macao SAR, China', 'MAC', '11.256', '65.8', 'High income']\n",
      "['Morocco', 'MAR', '21.023', '56', 'Lower middle income']\n",
      "['Moldova', 'MDA', '12.141', '45', 'Lower middle income']\n",
      "['Madagascar', 'MDG', '34.686', '3', 'Low income']\n",
      "['Maldives', 'MDV', '21.447', '44.1', 'Upper middle income']\n",
      "['Mexico', 'MEX', '19.104', '43.46', 'Upper middle income']\n",
      "['Macedonia, FYR', 'MKD', '11.222', '65.24', 'Upper middle income']\n",
      "['Mali', 'MLI', '44.138', '3.5', 'Low income']\n",
      "['Malta', 'MLT', '9.5', '68.9138', 'High income']\n",
      "['Myanmar', 'MMR', '18.119', '1.6', 'Lower middle income']\n",
      "['Montenegro', 'MNE', '11.616', '60.31', 'Upper middle income']\n",
      "['Mongolia', 'MNG', '24.275', '20', 'Upper middle income']\n",
      "['Mozambique', 'MOZ', '39.705', '5.4', 'Low income']\n",
      "['Mauritania', 'MRT', '33.801', '6.2', 'Lower middle income']\n",
      "['Mauritius', 'MUS', '10.9', '39', 'Upper middle income']\n",
      "['Malawi', 'MWI', '39.459', '5.05', 'Low income']\n",
      "['Malaysia', 'MYS', '16.805', '66.97', 'Upper middle income']\n"
     ]
    }
   ],
   "source": [
    "for line in data_lines:\n",
    "    if line[0].startswith('M'):\n",
    "        print(line)"
   ]
  },
  {
   "cell_type": "code",
   "execution_count": 10,
   "id": "a3a316d7",
   "metadata": {},
   "outputs": [
    {
     "name": "stdout",
     "output_type": "stream",
     "text": [
      "Aruba                                           ABW\n",
      "Afghanistan                                     AFG\n",
      "Angola                                          AGO\n",
      "Albania                                         ALB\n",
      "United Arab Emirates                            ARE\n",
      "Argentina                                       ARG\n",
      "Armenia                                         ARM\n",
      "Antigua and Barbuda                             ATG\n",
      "Australia                                       AUS\n",
      "Austria                                         AUT\n",
      "Azerbaijan                                      AZE\n",
      "Burundi                                         BDI\n",
      "Belgium                                         BEL\n",
      "Benin                                           BEN\n",
      "Burkina Faso                                    BFA\n",
      "Bangladesh                                      BGD\n",
      "Bulgaria                                        BGR\n",
      "Bahrain                                         BHR\n",
      "Bahamas, The                                    BHS\n",
      "Bosnia and Herzegovina                          BIH\n",
      "Belarus                                         BLR\n",
      "Belize                                          BLZ\n",
      "Bermuda                                         BMU\n",
      "Bolivia                                         BOL\n",
      "Brazil                                          BRA\n",
      "Barbados                                        BRB\n",
      "Brunei Darussalam                               BRN\n",
      "Bhutan                                          BTN\n",
      "Botswana                                        BWA\n",
      "Central African Republic                        CAF\n",
      "Canada                                          CAN\n",
      "Switzerland                                     CHE\n",
      "Chile                                           CHL\n",
      "China                                           CHN\n",
      "Cote d'Ivoire                                   CIV\n",
      "Cameroon                                        CMR\n",
      "Congo, Rep.                                     COG\n",
      "Colombia                                        COL\n",
      "Comoros                                         COM\n",
      "Cabo Verde                                      CPV\n",
      "Costa Rica                                      CRI\n",
      "Cuba                                            CUB\n",
      "Cayman Islands                                  CYM\n",
      "Cyprus                                          CYP\n",
      "Czech Republic                                  CZE\n",
      "Germany                                         DEU\n",
      "Djibouti                                        DJI\n",
      "Denmark                                         DNK\n",
      "Dominican Republic                              DOM\n",
      "Algeria                                         DZA\n",
      "Ecuador                                         ECU\n",
      "Egypt, Arab Rep.                                EGY\n",
      "Eritrea                                         ERI\n",
      "Spain                                           ESP\n",
      "Estonia                                         EST\n",
      "Ethiopia                                        ETH\n",
      "Finland                                         FIN\n",
      "Fiji                                            FJI\n",
      "France                                          FRA\n",
      "Micronesia, Fed. Sts.                           FSM\n",
      "Gabon                                           GAB\n",
      "United Kingdom                                  GBR\n",
      "Georgia                                         GEO\n",
      "Ghana                                           GHA\n",
      "Guinea                                          GIN\n",
      "Gambia, The                                     GMB\n",
      "Guinea-Bissau                                   GNB\n",
      "Equatorial Guinea                               GNQ\n",
      "Greece                                          GRC\n",
      "Grenada                                         GRD\n",
      "Greenland                                       GRL\n",
      "Guatemala                                       GTM\n",
      "Guam                                            GUM\n",
      "Guyana                                          GUY\n",
      "Hong Kong SAR, China                            HKG\n",
      "Honduras                                        HND\n",
      "Croatia                                         HRV\n",
      "Haiti                                           HTI\n",
      "Hungary                                         HUN\n",
      "Indonesia                                       IDN\n",
      "India                                           IND\n",
      "Ireland                                         IRL\n",
      "Iran, Islamic Rep.                              IRN\n",
      "Iraq                                            IRQ\n",
      "Iceland                                         ISL\n",
      "Israel                                          ISR\n",
      "Italy                                           ITA\n",
      "Jamaica                                         JAM\n",
      "Jordan                                          JOR\n",
      "Japan                                           JPN\n",
      "Kazakhstan                                      KAZ\n",
      "Kenya                                           KEN\n",
      "Kyrgyz Republic                                 KGZ\n",
      "Cambodia                                        KHM\n",
      "Kiribati                                        KIR\n",
      "Korea, Rep.                                     KOR\n",
      "Kuwait                                          KWT\n",
      "Lao PDR                                         LAO\n",
      "Lebanon                                         LBN\n",
      "Liberia                                         LBR\n",
      "Libya                                           LBY\n",
      "St. Lucia                                       LCA\n",
      "Liechtenstein                                   LIE\n",
      "Sri Lanka                                       LKA\n",
      "Lesotho                                         LSO\n",
      "Lithuania                                       LTU\n",
      "Luxembourg                                      LUX\n",
      "Latvia                                          LVA\n",
      "Macao SAR, China                                MAC\n",
      "Morocco                                         MAR\n",
      "Moldova                                         MDA\n",
      "Madagascar                                      MDG\n",
      "Maldives                                        MDV\n",
      "Mexico                                          MEX\n",
      "Macedonia, FYR                                  MKD\n",
      "Mali                                            MLI\n",
      "Malta                                           MLT\n",
      "Myanmar                                         MMR\n",
      "Montenegro                                      MNE\n",
      "Mongolia                                        MNG\n",
      "Mozambique                                      MOZ\n",
      "Mauritania                                      MRT\n",
      "Mauritius                                       MUS\n",
      "Malawi                                          MWI\n",
      "Malaysia                                        MYS\n",
      "Namibia                                         NAM\n",
      "New Caledonia                                   NCL\n",
      "Niger                                           NER\n",
      "Nigeria                                         NGA\n",
      "Nicaragua                                       NIC\n",
      "Netherlands                                     NLD\n",
      "Norway                                          NOR\n",
      "Nepal                                           NPL\n",
      "New Zealand                                     NZL\n",
      "Oman                                            OMN\n",
      "Pakistan                                        PAK\n",
      "Panama                                          PAN\n",
      "Peru                                            PER\n",
      "Philippines                                     PHL\n",
      "Papua New Guinea                                PNG\n",
      "Poland                                          POL\n",
      "Puerto Rico                                     PRI\n",
      "Portugal                                        PRT\n",
      "Paraguay                                        PRY\n",
      "French Polynesia                                PYF\n",
      "Qatar                                           QAT\n",
      "Romania                                         ROU\n",
      "Russian Federation                              RUS\n",
      "Rwanda                                          RWA\n",
      "Saudi Arabia                                    SAU\n",
      "Sudan                                           SDN\n",
      "Senegal                                         SEN\n",
      "Singapore                                       SGP\n",
      "Solomon Islands                                 SLB\n",
      "Sierra Leone                                    SLE\n",
      "El Salvador                                     SLV\n",
      "Somalia                                         SOM\n",
      "Serbia                                          SRB\n",
      "South Sudan                                     SSD\n",
      "Sao Tome and Principe                           STP\n",
      "Suriname                                        SUR\n",
      "Slovak Republic                                 SVK\n",
      "Slovenia                                        SVN\n",
      "Sweden                                          SWE\n",
      "Swaziland                                       SWZ\n",
      "Seychelles                                      SYC\n",
      "Syrian Arab Republic                            SYR\n",
      "Chad                                            TCD\n",
      "Togo                                            TGO\n",
      "Thailand                                        THA\n",
      "Tajikistan                                      TJK\n",
      "Turkmenistan                                    TKM\n",
      "Timor-Leste                                     TLS\n",
      "Tonga                                           TON\n",
      "Trinidad and Tobago                             TTO\n",
      "Tunisia                                         TUN\n",
      "Turkey                                          TUR\n",
      "Tanzania                                        TZA\n",
      "Uganda                                          UGA\n",
      "Ukraine                                         UKR\n",
      "Uruguay                                         URY\n",
      "United States                                   USA\n",
      "Uzbekistan                                      UZB\n",
      "St. Vincent and the Grenadines                  VCT\n",
      "Venezuela, RB                                   VEN\n",
      "Virgin Islands (U.S.)                           VIR\n",
      "Vietnam                                         VNM\n",
      "Vanuatu                                         VUT\n",
      "West Bank and Gaza                              PSE\n",
      "Samoa                                           WSM\n",
      "Yemen, Rep.                                     YEM\n",
      "South Africa                                    ZAF\n",
      "Congo, Dem. Rep.                                COD\n",
      "Zambia                                          ZMB\n",
      "Zimbabwe                                        ZWE\n"
     ]
    }
   ],
   "source": [
    "for line in data_lines[1:]:\n",
    "    print('{:<30} {: >20}'.format(*line))\n",
    "# '<': Forces the field to be left-aligned within the available space (this is the default for most objects).\n",
    "# '>': Forces the field to be right-aligned within the available space (this is the default for numbers)."
   ]
  },
  {
   "cell_type": "code",
   "execution_count": 11,
   "id": "1da786cb",
   "metadata": {},
   "outputs": [],
   "source": [
    "file_to_output = open('New_csv.csv','w')"
   ]
  },
  {
   "cell_type": "code",
   "execution_count": 12,
   "id": "d842fd9e",
   "metadata": {},
   "outputs": [],
   "source": [
    "csv_writer = csv.writer(file_to_output)"
   ]
  },
  {
   "cell_type": "code",
   "execution_count": 13,
   "id": "bb78eae2",
   "metadata": {},
   "outputs": [
    {
     "data": {
      "text/plain": [
       "12"
      ]
     },
     "execution_count": 13,
     "metadata": {},
     "output_type": "execute_result"
    }
   ],
   "source": [
    "csv_writer.writerow(['1','Jan',2040])"
   ]
  },
  {
   "cell_type": "code",
   "execution_count": 14,
   "id": "ac48c5c0",
   "metadata": {},
   "outputs": [],
   "source": [
    "csv_writer.writerows([['1','Jan',2040],['2','Feb',2040]])"
   ]
  },
  {
   "cell_type": "code",
   "execution_count": 15,
   "id": "c65265fd",
   "metadata": {},
   "outputs": [],
   "source": [
    "file_to_output.close()"
   ]
  },
  {
   "cell_type": "code",
   "execution_count": null,
   "id": "14917162",
   "metadata": {},
   "outputs": [],
   "source": []
  },
  {
   "cell_type": "code",
   "execution_count": 16,
   "id": "600a1bc4",
   "metadata": {},
   "outputs": [],
   "source": [
    "import PyPDF2"
   ]
  },
  {
   "cell_type": "code",
   "execution_count": 17,
   "id": "dfb89d31",
   "metadata": {},
   "outputs": [],
   "source": [
    "f = open('Working_Business_Proposal.pdf','rb')"
   ]
  },
  {
   "cell_type": "code",
   "execution_count": 18,
   "id": "a9abf861",
   "metadata": {},
   "outputs": [],
   "source": [
    "pdf_reader = PyPDF2.PdfFileReader(f)"
   ]
  },
  {
   "cell_type": "code",
   "execution_count": 19,
   "id": "f5c669ea",
   "metadata": {},
   "outputs": [
    {
     "data": {
      "text/plain": [
       "{'/Title': 'Working_Business_Proposal',\n",
       " '/Producer': 'Mac OS X 10.13.1 Quartz PDFContext',\n",
       " '/Creator': 'Pages',\n",
       " '/CreationDate': \"D:20171221083105Z00'00'\",\n",
       " '/ModDate': \"D:20171221083105Z00'00'\"}"
      ]
     },
     "execution_count": 19,
     "metadata": {},
     "output_type": "execute_result"
    }
   ],
   "source": [
    "pdf_reader.documentInfo"
   ]
  },
  {
   "cell_type": "code",
   "execution_count": 20,
   "id": "f93105fd",
   "metadata": {},
   "outputs": [
    {
     "data": {
      "text/plain": [
       "5"
      ]
     },
     "execution_count": 20,
     "metadata": {},
     "output_type": "execute_result"
    }
   ],
   "source": [
    "pdf_reader.numPages"
   ]
  },
  {
   "cell_type": "code",
   "execution_count": 21,
   "id": "7967e492",
   "metadata": {},
   "outputs": [],
   "source": [
    "page_4 = pdf_reader.getPage(3)"
   ]
  },
  {
   "cell_type": "code",
   "execution_count": 22,
   "id": "4bd90aaf",
   "metadata": {},
   "outputs": [
    {
     "data": {
      "text/plain": [
       "'competencies. Dramatically mesh low-risk high-yield alignments before \\ntransparent e-tailers. \\nAppropriately empower dynamic leadership skills after business portals. \\nGlobally myocardinate interactive supply chains with distinctive quality \\nvectors. Globally revolutionize global sources through interoperable \\nservices. Enthusiastically mesh long-term high-impact infrastructures vis-a-vis \\nefÞcient customer service. Professionally fashion wireless leadership rather \\nthan prospective experiences. Energistically myocardinate clicks-and-\\nmortar testing procedures whereas next-generation manufactured \\nproducts. \\nDynamically reinvent market-driven opportunities and ubiquitous \\ninterfaces. Energistically fabricate an expanded array of niche markets \\nthrough robust products. Appropriately implement visionary e-services vis-\\na-vis strategic web-readiness. \\nCompellingly embrace empowered e-business after user friendly \\nintellectual capital. Interactively actualize front-end processes with \\neffective convergence. Synergistically deliver performance based \\nmethods of empowerment whereas distributed expertise. \\nEfÞciently enable enabled sources and cost effective products. \\nCompletely synthesize principle-centered information after ethical \\ncommunities. EfÞciently innovate open-source infrastructures via \\ninexpensive materials. Objectively integrate enterprise-wide strategic theme areas with \\nfunctionalized infrastructures. Interactively productize premium \\ntechnologies whereas interdependent quality vectors. Rapaciously utilize \\nenterprise experiences via 24/7 markets. Uniquely matrix economically sound value through cooperative \\ntechnology. Competently parallel task fully researched data and enterprise \\nprocess improvements. Collaboratively expedite quality manufactured \\nproducts via client-focused results. \\nBUSINESS PROPOSAL\\n!4'"
      ]
     },
     "execution_count": 22,
     "metadata": {},
     "output_type": "execute_result"
    }
   ],
   "source": [
    "page_4.extractText()"
   ]
  },
  {
   "cell_type": "code",
   "execution_count": 23,
   "id": "fff8ff81",
   "metadata": {},
   "outputs": [],
   "source": [
    "page_1 = pdf_reader.getPage(0)"
   ]
  },
  {
   "cell_type": "code",
   "execution_count": 24,
   "id": "7ea6fcee",
   "metadata": {},
   "outputs": [],
   "source": [
    "pdf_writer = PyPDF2.PdfFileWriter()"
   ]
  },
  {
   "cell_type": "code",
   "execution_count": 25,
   "id": "996ff2ac",
   "metadata": {},
   "outputs": [],
   "source": [
    "pdf_writer.addPage(page_1)"
   ]
  },
  {
   "cell_type": "code",
   "execution_count": 26,
   "id": "270650c7",
   "metadata": {},
   "outputs": [],
   "source": [
    "pdf_output = open(\"Some_New_Doc.pdf\",\"wb\")"
   ]
  },
  {
   "cell_type": "code",
   "execution_count": 27,
   "id": "8d5b9f63",
   "metadata": {},
   "outputs": [],
   "source": [
    "pdf_writer.write(pdf_output)"
   ]
  },
  {
   "cell_type": "code",
   "execution_count": 28,
   "id": "6ccf64b3",
   "metadata": {},
   "outputs": [],
   "source": [
    "f.close()"
   ]
  },
  {
   "cell_type": "code",
   "execution_count": 29,
   "id": "2c10b728",
   "metadata": {},
   "outputs": [],
   "source": [
    "f = open('Working_Business_Proposal.pdf','rb')\n",
    "\n",
    "pdf_text = []\n",
    "\n",
    "pdf_reader = PyPDF2.PdfFileReader(f)\n",
    "\n",
    "for p in range(pdf_reader.numPages):\n",
    "    \n",
    "    page = pdf_reader.getPage(p)\n",
    "    \n",
    "    pdf_text.append(page.extractText())"
   ]
  },
  {
   "cell_type": "code",
   "execution_count": 30,
   "id": "9b9c8517",
   "metadata": {},
   "outputs": [
    {
     "data": {
      "text/plain": [
       "'Completely synergize resource taxing relationships via premier niche \\nmarkets. Professionally cultivate one-to-one customer service with robust \\nideas. Dynamically innovate resource-leveling customer service for state of \\nthe art customer service. \\nObjectively innovate empowered manufactured products whereas parallel \\nplatforms. Holisticly predominate extensible testing procedures for reliable \\nsupply chains. Dramatically engage top-line web services vis-a-vis \\ncutting-edge deliverables. Proactively envisioned multimedia based expertise and cross-media \\ngrowth strategies. Seamlessly visualize quality intellectual capital without \\nsuperior collaboration and idea-sharing. Holistically pontiÞcate installed \\nbase portals after maintainable products. \\nPhosßuorescently engage worldwide methodologies with web-enabled \\ntechnology. Interactively coordinate proactive e-commerce via process-\\ncentric \"outside the box\" thinking. Completely pursue scalable customer \\nservice through sustainable potentialities. \\nCollaboratively administrate turnkey channels whereas virtual e-tailers. \\nObjectively seize scalable metrics whereas proactive e-services. \\nSeamlessly empower fully researched growth strategies and interoperable \\ninternal or \"organic\" sources. \\nCredibly innovate granular internal or \"organic\" sources whereas high \\nstandards in web-readiness. Energistically scale future-proof core \\ncompetencies vis-a-vis impactful experiences. Dramatically synthesize \\nintegrated schemas with optimal networks. Interactively procrastinate high-payoff content without backward-\\ncompatible data. Quickly cultivate optimal processes and tactical \\narchitectures. Completely iterate covalent strategic theme areas via \\naccurate e-markets. Globally incubate standards compliant channels before scalable beneÞts. \\nQuickly disseminate superior deliverables whereas web-enabled \\nBUSINESS PROPOSAL\\n!2'"
      ]
     },
     "execution_count": 30,
     "metadata": {},
     "output_type": "execute_result"
    }
   ],
   "source": [
    "pdf_text[1]"
   ]
  }
 ],
 "metadata": {
  "kernelspec": {
   "display_name": "Python 3",
   "language": "python",
   "name": "python3"
  },
  "language_info": {
   "codemirror_mode": {
    "name": "ipython",
    "version": 3
   },
   "file_extension": ".py",
   "mimetype": "text/x-python",
   "name": "python",
   "nbconvert_exporter": "python",
   "pygments_lexer": "ipython3",
   "version": "3.8.8"
  }
 },
 "nbformat": 4,
 "nbformat_minor": 5
}
