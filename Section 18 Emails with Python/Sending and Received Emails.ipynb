{
 "cells": [
  {
   "cell_type": "code",
   "execution_count": 1,
   "id": "bfded37f",
   "metadata": {},
   "outputs": [],
   "source": [
    "import smtplib"
   ]
  },
  {
   "cell_type": "code",
   "execution_count": 2,
   "id": "3f0f6fb4",
   "metadata": {},
   "outputs": [],
   "source": [
    "smtp_obj = smtplib.SMTP('smtp.gmail.com',587)"
   ]
  },
  {
   "cell_type": "code",
   "execution_count": 3,
   "id": "baad3417",
   "metadata": {},
   "outputs": [
    {
     "data": {
      "text/plain": [
       "(250,\n",
       " b'smtp.gmail.com at your service, [2409:4042:e10:1305:91df:7335:dd3:82ee]\\nSIZE 35882577\\n8BITMIME\\nSTARTTLS\\nENHANCEDSTATUSCODES\\nPIPELINING\\nCHUNKING\\nSMTPUTF8')"
      ]
     },
     "execution_count": 3,
     "metadata": {},
     "output_type": "execute_result"
    }
   ],
   "source": [
    "smtp_obj.ehlo()"
   ]
  },
  {
   "cell_type": "code",
   "execution_count": 4,
   "id": "c564016d",
   "metadata": {},
   "outputs": [
    {
     "data": {
      "text/plain": [
       "(220, b'2.0.0 Ready to start TLS')"
      ]
     },
     "execution_count": 4,
     "metadata": {},
     "output_type": "execute_result"
    }
   ],
   "source": [
    "smtp_obj.starttls()"
   ]
  },
  {
   "cell_type": "code",
   "execution_count": 5,
   "id": "3f5151d1",
   "metadata": {},
   "outputs": [],
   "source": [
    "import getpass"
   ]
  },
  {
   "cell_type": "code",
   "execution_count": 7,
   "id": "62e1361e",
   "metadata": {},
   "outputs": [
    {
     "name": "stdout",
     "output_type": "stream",
     "text": [
      "Enter your email : ········\n",
      "Enter your password : ········\n"
     ]
    },
    {
     "data": {
      "text/plain": [
       "(235, b'2.7.0 Accepted')"
      ]
     },
     "execution_count": 7,
     "metadata": {},
     "output_type": "execute_result"
    }
   ],
   "source": [
    "email = getpass.getpass(\"Enter your email : \")\n",
    "password = getpass.getpass(\"Enter your password : \")\n",
    "smtp_obj.login(email,password)"
   ]
  },
  {
   "cell_type": "code",
   "execution_count": 8,
   "id": "e0a828dc",
   "metadata": {},
   "outputs": [
    {
     "name": "stdout",
     "output_type": "stream",
     "text": [
      "Enter your email : ········\n",
      "Enter the email of the recipient : ········\n",
      "Enter the subject line : TESTING\n",
      "Type out the message you want to send : Hi\n"
     ]
    },
    {
     "data": {
      "text/plain": [
       "{}"
      ]
     },
     "execution_count": 8,
     "metadata": {},
     "output_type": "execute_result"
    }
   ],
   "source": [
    "from_address = getpass.getpass(\"Enter your email : \")\n",
    "to_address = getpass.getpass(\"Enter the email of the recipient : \")\n",
    "subject = input(\"Enter the subject line : \")\n",
    "message = input(\"Type out the message you want to send : \")\n",
    "msg = \"Subject : \" + subject + '\\n' + message\n",
    "smtp_obj.sendmail(from_address,to_address,msg)"
   ]
  },
  {
   "cell_type": "code",
   "execution_count": 9,
   "id": "4b86f9b8",
   "metadata": {},
   "outputs": [
    {
     "data": {
      "text/plain": [
       "(221, b'2.0.0 closing connection g2sm31939530pfv.91 - gsmtp')"
      ]
     },
     "execution_count": 9,
     "metadata": {},
     "output_type": "execute_result"
    }
   ],
   "source": [
    "smtp_obj.quit()"
   ]
  },
  {
   "cell_type": "code",
   "execution_count": null,
   "id": "d8f9598c",
   "metadata": {},
   "outputs": [],
   "source": []
  },
  {
   "cell_type": "code",
   "execution_count": null,
   "id": "2b2c9875",
   "metadata": {},
   "outputs": [],
   "source": []
  },
  {
   "cell_type": "code",
   "execution_count": 10,
   "id": "3878cd7a",
   "metadata": {},
   "outputs": [],
   "source": [
    "import imaplib"
   ]
  },
  {
   "cell_type": "code",
   "execution_count": 11,
   "id": "9fb012e1",
   "metadata": {},
   "outputs": [],
   "source": [
    "M = imaplib.IMAP4_SSL('imap.gmail.com')"
   ]
  },
  {
   "cell_type": "code",
   "execution_count": 12,
   "id": "8e810d13",
   "metadata": {},
   "outputs": [],
   "source": [
    "import getpass"
   ]
  },
  {
   "cell_type": "code",
   "execution_count": 13,
   "id": "5d637496",
   "metadata": {},
   "outputs": [
    {
     "name": "stdout",
     "output_type": "stream",
     "text": [
      "Enter email : ········\n"
     ]
    }
   ],
   "source": [
    "email =  getpass.getpass('Enter email : ')"
   ]
  },
  {
   "cell_type": "code",
   "execution_count": 14,
   "id": "4ad93979",
   "metadata": {},
   "outputs": [
    {
     "name": "stdout",
     "output_type": "stream",
     "text": [
      "Enter password : ········\n"
     ]
    }
   ],
   "source": [
    "password =  getpass.getpass('Enter password : ')"
   ]
  },
  {
   "cell_type": "code",
   "execution_count": 15,
   "id": "66ea43e8",
   "metadata": {},
   "outputs": [
    {
     "data": {
      "text/plain": [
       "('OK', [b'omkargurav9685@gmail.com authenticated (Success)'])"
      ]
     },
     "execution_count": 15,
     "metadata": {},
     "output_type": "execute_result"
    }
   ],
   "source": [
    "M.login(email, password)"
   ]
  },
  {
   "cell_type": "code",
   "execution_count": 16,
   "id": "1871cad3",
   "metadata": {},
   "outputs": [
    {
     "data": {
      "text/plain": [
       "('OK',\n",
       " [b'(\\\\HasNoChildren) \"/\" \"INBOX\"',\n",
       "  b'(\\\\HasChildren \\\\Noselect) \"/\" \"[Gmail]\"',\n",
       "  b'(\\\\All \\\\HasNoChildren) \"/\" \"[Gmail]/All Mail\"',\n",
       "  b'(\\\\HasNoChildren \\\\Trash) \"/\" \"[Gmail]/Bin\"',\n",
       "  b'(\\\\Drafts \\\\HasNoChildren) \"/\" \"[Gmail]/Drafts\"',\n",
       "  b'(\\\\HasNoChildren \\\\Important) \"/\" \"[Gmail]/Important\"',\n",
       "  b'(\\\\HasNoChildren \\\\Sent) \"/\" \"[Gmail]/Sent Mail\"',\n",
       "  b'(\\\\HasNoChildren \\\\Junk) \"/\" \"[Gmail]/Spam\"',\n",
       "  b'(\\\\Flagged \\\\HasNoChildren) \"/\" \"[Gmail]/Starred\"',\n",
       "  b'(\\\\HasNoChildren) \"/\" \"offers\"'])"
      ]
     },
     "execution_count": 16,
     "metadata": {},
     "output_type": "execute_result"
    }
   ],
   "source": [
    "M.list()"
   ]
  },
  {
   "cell_type": "code",
   "execution_count": 17,
   "id": "180f9367",
   "metadata": {},
   "outputs": [
    {
     "data": {
      "text/plain": [
       "('OK', [b'5859'])"
      ]
     },
     "execution_count": 17,
     "metadata": {},
     "output_type": "execute_result"
    }
   ],
   "source": [
    "M.select('INBOX')"
   ]
  },
  {
   "cell_type": "code",
   "execution_count": 18,
   "id": "afd8ea7c",
   "metadata": {},
   "outputs": [],
   "source": [
    "typ ,data = M.search(None,'SUBJECT \"TESTING\"')"
   ]
  },
  {
   "cell_type": "code",
   "execution_count": 19,
   "id": "3fc6f40c",
   "metadata": {},
   "outputs": [
    {
     "data": {
      "text/plain": [
       "'OK'"
      ]
     },
     "execution_count": 19,
     "metadata": {},
     "output_type": "execute_result"
    }
   ],
   "source": [
    "typ"
   ]
  },
  {
   "cell_type": "code",
   "execution_count": 20,
   "id": "d3a72592",
   "metadata": {},
   "outputs": [
    {
     "data": {
      "text/plain": [
       "[b'4479 4859 4880 4928 4972 5011 5093 5118 5158 5198 5345 5574 5824 5855']"
      ]
     },
     "execution_count": 20,
     "metadata": {},
     "output_type": "execute_result"
    }
   ],
   "source": [
    "data"
   ]
  },
  {
   "cell_type": "code",
   "execution_count": 27,
   "id": "7e7ed015",
   "metadata": {},
   "outputs": [
    {
     "data": {
      "text/plain": [
       "[b'4479',\n",
       " b'4859',\n",
       " b'4880',\n",
       " b'4928',\n",
       " b'4972',\n",
       " b'5011',\n",
       " b'5093',\n",
       " b'5118',\n",
       " b'5158',\n",
       " b'5198',\n",
       " b'5345',\n",
       " b'5574',\n",
       " b'5824',\n",
       " b'5855']"
      ]
     },
     "execution_count": 27,
     "metadata": {},
     "output_type": "execute_result"
    }
   ],
   "source": [
    "data[0].split()"
   ]
  },
  {
   "cell_type": "code",
   "execution_count": 29,
   "id": "30ca4308",
   "metadata": {},
   "outputs": [],
   "source": [
    "for dat in data[0].split():\n",
    "    result , email_data = M.fetch(dat,\"(RFC822)\")"
   ]
  },
  {
   "cell_type": "code",
   "execution_count": 30,
   "id": "9b85cdf4",
   "metadata": {},
   "outputs": [],
   "source": [
    "raw_email = email_data[0][1]"
   ]
  },
  {
   "cell_type": "code",
   "execution_count": 35,
   "id": "c885695b",
   "metadata": {},
   "outputs": [
    {
     "data": {
      "text/plain": [
       "b'Bcc: omkargurav9685@gmail.com\\r\\nReturn-Path: <omkargurav9685@gmail.com>\\r\\nReceived: from [192.168.56.1] ([2409:4042:e10:1305:91df:7335:dd3:82ee])\\r\\n        by smtp.gmail.com with ESMTPSA id g2sm31939530pfv.91.2021.07.22.23.42.31\\r\\n        for <omkargurav9685@gmail.com>\\r\\n        (version=TLS1_3 cipher=TLS_AES_256_GCM_SHA384 bits=256/256);\\r\\n        Thu, 22 Jul 2021 23:42:35 -0700 (PDT)\\r\\nMessage-ID: <60fa64db.1c69fb81.2ba2.227a@mx.google.com>\\r\\nDate: Thu, 22 Jul 2021 23:42:35 -0700 (PDT)\\r\\nFrom: omkargurav9685@gmail.com\\r\\nSubject : TESTING\\r\\n\\r\\nHi\\r\\n'"
      ]
     },
     "execution_count": 35,
     "metadata": {},
     "output_type": "execute_result"
    }
   ],
   "source": [
    "raw_email"
   ]
  },
  {
   "cell_type": "code",
   "execution_count": 31,
   "id": "e391e4fa",
   "metadata": {},
   "outputs": [],
   "source": [
    "raw_email_string = raw_email.decode('utf-8')"
   ]
  },
  {
   "cell_type": "code",
   "execution_count": 34,
   "id": "1242573c",
   "metadata": {},
   "outputs": [
    {
     "data": {
      "text/plain": [
       "'Bcc: omkargurav9685@gmail.com\\r\\nReturn-Path: <omkargurav9685@gmail.com>\\r\\nReceived: from [192.168.56.1] ([2409:4042:e10:1305:91df:7335:dd3:82ee])\\r\\n        by smtp.gmail.com with ESMTPSA id g2sm31939530pfv.91.2021.07.22.23.42.31\\r\\n        for <omkargurav9685@gmail.com>\\r\\n        (version=TLS1_3 cipher=TLS_AES_256_GCM_SHA384 bits=256/256);\\r\\n        Thu, 22 Jul 2021 23:42:35 -0700 (PDT)\\r\\nMessage-ID: <60fa64db.1c69fb81.2ba2.227a@mx.google.com>\\r\\nDate: Thu, 22 Jul 2021 23:42:35 -0700 (PDT)\\r\\nFrom: omkargurav9685@gmail.com\\r\\nSubject : TESTING\\r\\n\\r\\nHi\\r\\n'"
      ]
     },
     "execution_count": 34,
     "metadata": {},
     "output_type": "execute_result"
    }
   ],
   "source": [
    "raw_email_string"
   ]
  },
  {
   "cell_type": "code",
   "execution_count": 32,
   "id": "e55a6411",
   "metadata": {},
   "outputs": [],
   "source": [
    "import email"
   ]
  },
  {
   "cell_type": "code",
   "execution_count": 33,
   "id": "534b9fa4",
   "metadata": {},
   "outputs": [],
   "source": [
    "email_message = email.message_from_string(raw_email_string)"
   ]
  },
  {
   "cell_type": "code",
   "execution_count": 36,
   "id": "faad06bc",
   "metadata": {},
   "outputs": [
    {
     "name": "stdout",
     "output_type": "stream",
     "text": [
      "b'Subject : TESTING\\r\\n\\r\\nHi\\r\\n'\n"
     ]
    }
   ],
   "source": [
    "for part in email_message.walk():\n",
    "    if part.get_content_type() == \"text/plain\":\n",
    "        body = part.get_payload(decode=True)\n",
    "        print(body)"
   ]
  }
 ],
 "metadata": {
  "kernelspec": {
   "display_name": "Python 3",
   "language": "python",
   "name": "python3"
  },
  "language_info": {
   "codemirror_mode": {
    "name": "ipython",
    "version": 3
   },
   "file_extension": ".py",
   "mimetype": "text/x-python",
   "name": "python",
   "nbconvert_exporter": "python",
   "pygments_lexer": "ipython3",
   "version": "3.8.8"
  }
 },
 "nbformat": 4,
 "nbformat_minor": 5
}
