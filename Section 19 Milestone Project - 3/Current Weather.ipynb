{
 "cells": [
  {
   "cell_type": "code",
   "execution_count": 1,
   "id": "549fa05b",
   "metadata": {},
   "outputs": [
    {
     "name": "stdout",
     "output_type": "stream",
     "text": [
      "Your City : Mumbai\n",
      "Current Weather : Haze\n",
      "Temp : 30.14 C\n"
     ]
    }
   ],
   "source": [
    "# Get the current weather for a given zip/postal code. Optional: Try locating the user automatically.\n",
    "\n",
    "\n",
    "import requests, bs4, json, re\n",
    "from urllib.request import urlopen\n",
    "\n",
    "\n",
    "def getPublicIP():\n",
    "    \n",
    "    \n",
    "    res = requests.get('http://checkip.dyndns.com/')\n",
    "    soup = bs4.BeautifulSoup(res.text,\"lxml\")\n",
    "    data = soup.select('body')[0].text\n",
    "    \n",
    "    return re.compile(r'(\\d+.\\d+.\\d+.\\d+)').search(data).group(0)\n",
    "\n",
    "  \n",
    "IP = str(getPublicIP())\n",
    "\n",
    "\n",
    "url_for_info = 'http://ipinfo.io/' + IP + '/json'\n",
    "\n",
    "res = urlopen(url_for_info)\n",
    "\n",
    "data = json.load(res)\n",
    "\n",
    "city = data['city']\n",
    "\n",
    "response = urlopen('http://api.openweathermap.org/data/2.5/weather?q=' + city + '&APPID=70bb0476afd161a7782267bd5663f0a0')\n",
    "\n",
    "data1 = json.load(response)\n",
    "\n",
    "data1\n",
    "\n",
    "print(\"Your City : \" + city)\n",
    "\n",
    "weather = data1['weather']\n",
    "\n",
    "print(\"Current Weather : \" + weather[0]['main'] + \"\\nTemp : \" + str(round(data1['main']['temp'] - 273,2)) + \" C\")"
   ]
  }
 ],
 "metadata": {
  "kernelspec": {
   "display_name": "Python 3",
   "language": "python",
   "name": "python3"
  },
  "language_info": {
   "codemirror_mode": {
    "name": "ipython",
    "version": 3
   },
   "file_extension": ".py",
   "mimetype": "text/x-python",
   "name": "python",
   "nbconvert_exporter": "python",
   "pygments_lexer": "ipython3",
   "version": "3.8.8"
  }
 },
 "nbformat": 4,
 "nbformat_minor": 5
}
