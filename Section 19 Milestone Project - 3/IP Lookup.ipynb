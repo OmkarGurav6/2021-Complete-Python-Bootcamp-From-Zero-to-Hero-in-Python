{
 "cells": [
  {
   "cell_type": "code",
   "execution_count": 1,
   "id": "2a96cf33",
   "metadata": {},
   "outputs": [
    {
     "name": "stdout",
     "output_type": "stream",
     "text": [
      "Your City : Mumbai\n",
      "Your Region : Maharashtra\n",
      "Your Country : IN\n",
      "Your Timezone : Asia/Kolkata\n"
     ]
    }
   ],
   "source": [
    "# Country from IP Lookup - Enter an IP address and find the country that IP is registered in. Optional: Find the Ip automatically.\n",
    "\n",
    "import requests, bs4, json, re\n",
    "from urllib.request import urlopen\n",
    "\n",
    "\n",
    "def getPublicIP():\n",
    "    \n",
    "    \n",
    "    res = requests.get('http://checkip.dyndns.com/')\n",
    "    soup = bs4.BeautifulSoup(res.text,\"lxml\")\n",
    "    data = soup.select('body')[0].text\n",
    "    \n",
    "    return re.compile(r'(\\d+.\\d+.\\d+.\\d+)').search(data).group(0)\n",
    "\n",
    "  \n",
    "IP = str(getPublicIP())\n",
    "\n",
    "\n",
    "url_for_info = 'http://ipinfo.io/' + IP + '/json'\n",
    "\n",
    "res = urlopen(url_for_info)\n",
    "\n",
    "data = json.load(res)\n",
    "\n",
    "city = data['city']\n",
    "region = data['region']\n",
    "country = data['country']\n",
    "tz = data['timezone']\n",
    "\n",
    "\n",
    "print(\"Your City : \" + city ) \n",
    "print(\"Your Region : \" + region )\n",
    "print(\"Your Country : \" + country )\n",
    "print(\"Your Timezone : \" + tz )\n",
    "        "
   ]
  }
 ],
 "metadata": {
  "kernelspec": {
   "display_name": "Python 3",
   "language": "python",
   "name": "python3"
  },
  "language_info": {
   "codemirror_mode": {
    "name": "ipython",
    "version": 3
   },
   "file_extension": ".py",
   "mimetype": "text/x-python",
   "name": "python",
   "nbconvert_exporter": "python",
   "pygments_lexer": "ipython3",
   "version": "3.8.8"
  }
 },
 "nbformat": 4,
 "nbformat_minor": 5
}
