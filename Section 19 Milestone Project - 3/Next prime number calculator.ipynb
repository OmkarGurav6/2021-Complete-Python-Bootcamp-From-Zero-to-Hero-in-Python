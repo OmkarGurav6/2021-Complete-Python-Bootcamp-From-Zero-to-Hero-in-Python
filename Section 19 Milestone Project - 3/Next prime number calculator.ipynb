{
 "cells": [
  {
   "cell_type": "raw",
   "id": "1765c308",
   "metadata": {},
   "source": [
    "\n",
    "If a number n is not a prime, it can be factored into two factors a and b:\n",
    "\n",
    "n = a * b\n",
    "Now a and b can't be both greater than the square root of n, since then the product a * b would be greater than \n",
    "sqrt(n) * sqrt(n) = n. \n",
    "\n",
    "So in any factorization of n, at least one of the factors must be smaller than the square root of n, \n",
    "and if we can't find any factors less than or equal to the square root, n must be a prime.\n"
   ]
  },
  {
   "cell_type": "code",
   "execution_count": 1,
   "id": "059ba6b5",
   "metadata": {},
   "outputs": [
    {
     "name": "stdout",
     "output_type": "stream",
     "text": [
      "Enter number : 56\n",
      "Next prime number is 59\n",
      "Do you want next prime number (y/n)? y\n",
      "Next prime number is 61\n",
      "Do you want next prime number (y/n)? y\n",
      "Next prime number is 67\n",
      "Do you want next prime number (y/n)? y\n",
      "Next prime number is 71\n",
      "Do you want next prime number (y/n)? y\n",
      "Next prime number is 73\n",
      "Do you want next prime number (y/n)? y\n",
      "Next prime number is 79\n",
      "Do you want next prime number (y/n)? y\n",
      "Next prime number is 83\n",
      "Do you want next prime number (y/n)? y\n",
      "Next prime number is 89\n",
      "Do you want next prime number (y/n)? y\n",
      "Next prime number is 97\n",
      "Do you want next prime number (y/n)? y\n",
      "Next prime number is 101\n",
      "Do you want next prime number (y/n)? n\n"
     ]
    }
   ],
   "source": [
    "#Next Prime Number - Have the program find prime numbers until the user chooses to stop asking for the next one.\n",
    "\n",
    "def next_prime(n):\n",
    "\n",
    "    if n % 2 == 0:\n",
    "        n += 1\n",
    "        \n",
    "    for i in range(3, int(n**0.5) + 1, 2):\n",
    "        if n % i == 0:\n",
    "            n += 2 \n",
    "            n = next_prime(n) \n",
    "            \n",
    "    return n\n",
    "\n",
    "\n",
    "def main():\n",
    "    \n",
    "    current_not_valid = True\n",
    "    \n",
    "    \n",
    "    while current_not_valid:\n",
    "        current = int(input(\"Enter number : \"))\n",
    "        \n",
    "        if current < 0:\n",
    "            current_not_valid = True\n",
    "            print(\"Wrong choice !!! Enter positive integer.\")\n",
    "        else:\n",
    "            current_not_valid = False\n",
    "    \n",
    "    choice = 'y'\n",
    "    \n",
    "    if current == 0 or current == 1:\n",
    "            current = 2\n",
    "            print(\"Next prime number is \" + str(current))\n",
    "    \n",
    "    while choice.lower().startswith('y'):\n",
    "            \n",
    "        current = next_prime(current)\n",
    "\n",
    "        print(\"Next prime number is \" + str(current))\n",
    "        choice = input(\"Do you want next prime number (y/n)? \")\n",
    "        current += 2\n",
    "        \n",
    "        \n",
    "if __name__ == '__main__':\n",
    "    main()"
   ]
  }
 ],
 "metadata": {
  "kernelspec": {
   "display_name": "Python 3",
   "language": "python",
   "name": "python3"
  },
  "language_info": {
   "codemirror_mode": {
    "name": "ipython",
    "version": 3
   },
   "file_extension": ".py",
   "mimetype": "text/x-python",
   "name": "python",
   "nbconvert_exporter": "python",
   "pygments_lexer": "ipython3",
   "version": "3.8.8"
  }
 },
 "nbformat": 4,
 "nbformat_minor": 5
}
