{
 "cells": [
  {
   "cell_type": "markdown",
   "id": "3623e06f",
   "metadata": {},
   "source": [
    "Pig Latin is a game of alterations played on the English language game. \n",
    "To create the Pig Latin form of an English word the initial consonant sound is transposed to the end of the word and an ay is affixed (Ex.: \"banana\" would yield anana-bay)."
   ]
  },
  {
   "cell_type": "code",
   "execution_count": 1,
   "id": "57a339d2",
   "metadata": {},
   "outputs": [
    {
     "name": "stdout",
     "output_type": "stream",
     "text": [
      "Enter string : omkar\n",
      "omkar-ay\n",
      "Do you want to enter another string ? (y/n) : y\n",
      "Enter string : mkar\n",
      "ar-mkay\n",
      "Do you want to enter another string ? (y/n) : y\n",
      "Enter string : kar\n",
      "ar-kay\n",
      "Do you want to enter another string ? (y/n) : n\n"
     ]
    }
   ],
   "source": [
    "# 1. If a word starts with a consonant and a vowel, put the first letter of the word at the end of the word and add \"ay.\" \n",
    "\n",
    "# 2. If a word starts with two consonants move the two consonants to the end of the word and add \"ay.\" \n",
    "\n",
    "# 3. If a word starts with a vowel add the word \"way\" at the end of the word. \n",
    "\n",
    "def piglatin(string):\n",
    "       \n",
    "        words   = []\n",
    "        vowels  = 'aeiou'\n",
    "        const = ''\n",
    "       \n",
    "        for index,alphabet in enumerate(string):\n",
    "            \n",
    "            if alphabet not in vowels:  # Add alphabets which should be added after end\n",
    "                const += alphabet\n",
    "            else:\n",
    "                break\n",
    "                \n",
    "        if string[0] in vowels:\n",
    "\n",
    "            words.append(string + '-ay')\n",
    "\n",
    "        else:\n",
    "\n",
    "            words.append(string[index:] + '-' + const + 'ay')\n",
    "                \n",
    "        print(' '.join(words))\n",
    "    \n",
    "    \n",
    "def main():\n",
    "    \n",
    "    not_valid = True\n",
    "    \n",
    "    while not_valid:\n",
    "        \n",
    "        word = input(\"Enter string : \")\n",
    "        \n",
    "        if isinstance(word,str):\n",
    "            \n",
    "            not_valid = False\n",
    "            \n",
    "            piglatin(word)\n",
    "            \n",
    "            ch = input(\"Do you want to enter another string ? (y/n) : \")\n",
    "\n",
    "            if ch.lower().startswith('y'):\n",
    "                not_valid = True\n",
    "                \n",
    "        else:\n",
    "            print(\"Enter string.\")\n",
    "    \n",
    "\n",
    "if __name__ == \"__main__\":\n",
    "    main()"
   ]
  }
 ],
 "metadata": {
  "kernelspec": {
   "display_name": "Python 3",
   "language": "python",
   "name": "python3"
  },
  "language_info": {
   "codemirror_mode": {
    "name": "ipython",
    "version": 3
   },
   "file_extension": ".py",
   "mimetype": "text/x-python",
   "name": "python",
   "nbconvert_exporter": "python",
   "pygments_lexer": "ipython3",
   "version": "3.8.8"
  }
 },
 "nbformat": 4,
 "nbformat_minor": 5
}
