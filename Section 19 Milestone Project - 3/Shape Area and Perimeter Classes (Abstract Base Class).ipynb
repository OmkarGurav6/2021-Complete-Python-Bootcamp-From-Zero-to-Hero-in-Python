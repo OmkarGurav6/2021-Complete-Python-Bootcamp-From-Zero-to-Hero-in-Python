{
 "cells": [
  {
   "cell_type": "code",
   "execution_count": 1,
   "id": "f3ece339",
   "metadata": {},
   "outputs": [],
   "source": [
    "# Create an abstract class called Shape and then inherit from it other shapes like rectangle, circle, triangle etc. \n",
    "# Then have each class override the area and perimeter functionality to handle each shape type.\n",
    "\n",
    "import abc\n",
    "\n",
    "\n",
    "class Shape(metaclass = abc.ABCMeta):\n",
    "    \n",
    "    abc.abstractmethod\n",
    "    def area(self):\n",
    "        pass\n",
    "    \n",
    "    abc.abstractmethod\n",
    "    def perimeter(self):\n",
    "        pass\n",
    "    \n",
    "    \n",
    "class Rectangle(Shape):\n",
    "    \n",
    "    def __init__(self,length, breadth):\n",
    "        \n",
    "        self.length = length\n",
    "        self.breadth = breadth\n",
    "        \n",
    "        \n",
    "    def area(self):\n",
    "        \n",
    "        return self.length*self.breadth\n",
    "    \n",
    "    def perimeter(self):\n",
    "        \n",
    "        return 2*(self.length + self.breadth)\n",
    "    \n",
    "    \n",
    "class Circle(Shape):\n",
    "    \n",
    "    def __init__(self,radius):\n",
    "        \n",
    "        self.radius = radius\n",
    "        \n",
    "        \n",
    "    def area(self):\n",
    "        \n",
    "        return self.radius*self.radius*3.14\n",
    "    \n",
    "    def perimeter(self):\n",
    "        \n",
    "        return 2*3.14*self.radius\n",
    "    \n",
    "    \n",
    "class Triangle(Shape):\n",
    "    \n",
    "    def __init__(self,side_1, side_2, side_3):\n",
    "        \n",
    "        self.side_1 = side_1\n",
    "        self.side_2 = side_2\n",
    "        self.side_3 = side_3\n",
    "        \n",
    "        \n",
    "    def area(self):\n",
    "        \n",
    "        s = (self.side_1 + self.side_2 + self.side_3)/2\n",
    "    \n",
    "        return (s*(s - self.side_1)*(s - self.side_2)*(s - self.side_3))**0.5\n",
    "    \n",
    "    def perimeter(self):\n",
    "        \n",
    "        return self.side_1 + self.side_2 + self.side_3\n",
    "    \n",
    "    "
   ]
  },
  {
   "cell_type": "code",
   "execution_count": 2,
   "id": "94b26e62",
   "metadata": {},
   "outputs": [
    {
     "name": "stdout",
     "output_type": "stream",
     "text": [
      "70\n",
      "300\n"
     ]
    }
   ],
   "source": [
    "r = Rectangle(20,15)\n",
    "\n",
    "print(r.perimeter())\n",
    "print(r.area())"
   ]
  },
  {
   "cell_type": "code",
   "execution_count": 3,
   "id": "0a996322",
   "metadata": {},
   "outputs": [
    {
     "name": "stdout",
     "output_type": "stream",
     "text": [
      "2826.0\n",
      "188.4\n"
     ]
    }
   ],
   "source": [
    "c = Circle(30)\n",
    "\n",
    "print(c.area())\n",
    "print(c.perimeter())"
   ]
  },
  {
   "cell_type": "code",
   "execution_count": 4,
   "id": "80e8d50e",
   "metadata": {},
   "outputs": [
    {
     "name": "stdout",
     "output_type": "stream",
     "text": [
      "214.57734619479288\n",
      "153\n"
     ]
    }
   ],
   "source": [
    "t = Triangle(23,76,54)\n",
    "\n",
    "print(t.area())\n",
    "print(t.perimeter())"
   ]
  }
 ],
 "metadata": {
  "kernelspec": {
   "display_name": "Python 3",
   "language": "python",
   "name": "python3"
  },
  "language_info": {
   "codemirror_mode": {
    "name": "ipython",
    "version": 3
   },
   "file_extension": ".py",
   "mimetype": "text/x-python",
   "name": "python",
   "nbconvert_exporter": "python",
   "pygments_lexer": "ipython3",
   "version": "3.8.8"
  }
 },
 "nbformat": 4,
 "nbformat_minor": 5
}
