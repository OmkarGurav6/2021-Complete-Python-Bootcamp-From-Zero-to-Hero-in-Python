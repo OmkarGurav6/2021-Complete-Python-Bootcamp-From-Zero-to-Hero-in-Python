{
 "cells": [
  {
   "cell_type": "markdown",
   "id": "c6fa4880",
   "metadata": {},
   "source": [
    "\n",
    "Import shuffle function"
   ]
  },
  {
   "cell_type": "code",
   "execution_count": 1,
   "id": "9afe0981",
   "metadata": {},
   "outputs": [],
   "source": [
    "from random import shuffle"
   ]
  },
  {
   "cell_type": "markdown",
   "id": "8fcd677f",
   "metadata": {},
   "source": [
    "Function to shuffle list"
   ]
  },
  {
   "cell_type": "code",
   "execution_count": 2,
   "id": "11db7c8c",
   "metadata": {},
   "outputs": [],
   "source": [
    "def shuffle_list(my_list):\n",
    "    shuffle(my_list)\n",
    "    \n",
    "    return my_list"
   ]
  },
  {
   "cell_type": "markdown",
   "id": "27706e7c",
   "metadata": {},
   "source": [
    "\n",
    "Function to take input guess"
   ]
  },
  {
   "cell_type": "code",
   "execution_count": 3,
   "id": "33340e15",
   "metadata": {},
   "outputs": [],
   "source": [
    "def player_guess():\n",
    "    \n",
    "    guess = ''\n",
    "    \n",
    "    while guess not in ['0','1','2']:\n",
    "        \n",
    "        guess = input(\"Pick a number: 0, 1, or 2:  \")\n",
    "    \n",
    "    return int(guess)"
   ]
  },
  {
   "cell_type": "markdown",
   "id": "281b10a4",
   "metadata": {},
   "source": [
    "\n",
    "Function to check guess"
   ]
  },
  {
   "cell_type": "code",
   "execution_count": 4,
   "id": "051a6c37",
   "metadata": {},
   "outputs": [],
   "source": [
    "def check_guess(my_list,guess):\n",
    "    \n",
    "    if my_list[guess] == 'I':\n",
    "        print('Correct Guess!')\n",
    "    else:\n",
    "        print('Wrong! Better luck next time')\n",
    "        print(my_list)"
   ]
  },
  {
   "cell_type": "code",
   "execution_count": 12,
   "id": "ed665cf2",
   "metadata": {},
   "outputs": [
    {
     "name": "stdout",
     "output_type": "stream",
     "text": [
      "Pick a number: 0, 1, or 2:  1\n",
      "Correct Guess!\n"
     ]
    }
   ],
   "source": [
    "my_list = ['','','I']\n",
    "\n",
    "shuffled_list = shuffle_list(my_list)\n",
    "\n",
    "guess = player_guess()\n",
    "\n",
    "check_guess(shuffled_list, guess)"
   ]
  }
 ],
 "metadata": {
  "kernelspec": {
   "display_name": "Python 3",
   "language": "python",
   "name": "python3"
  },
  "language_info": {
   "codemirror_mode": {
    "name": "ipython",
    "version": 3
   },
   "file_extension": ".py",
   "mimetype": "text/x-python",
   "name": "python",
   "nbconvert_exporter": "python",
   "pygments_lexer": "ipython3",
   "version": "3.8.8"
  }
 },
 "nbformat": 4,
 "nbformat_minor": 5
}
